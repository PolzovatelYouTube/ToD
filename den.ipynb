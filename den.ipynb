{
 "cells": [
  {
   "cell_type": "markdown",
   "metadata": {},
   "source": [
    "3.3 Добавьте в таблицу `recipes` столбец `name_word_count`, в котором хранится количество слов из названии рецепта (считайте, что слова в названии разделяются только пробелами). Обратите внимание, что между словами может располагаться несколько пробелов подряд."
   ]
  },
  {
   "cell_type": "markdown",
   "metadata": {},
   "source": [
    "1.1"
   ]
  },
  {
   "cell_type": "code",
   "execution_count": 40,
   "metadata": {},
   "outputs": [],
   "source": [
    "import pandas as pd\n",
    "\n",
    "recipes = pd.read_csv('data/recipes_sample.csv')\n",
    "reviews = pd.read_csv('data/reviews_sample.csv', index_col=0)"
   ]
  },
  {
   "cell_type": "markdown",
   "metadata": {},
   "source": [
    "1.2"
   ]
  },
  {
   "cell_type": "code",
   "execution_count": null,
   "metadata": {},
   "outputs": [],
   "source": [
    "# Основные параметры для таблицы recipes\n",
    "print(\"Основные параметры для таблицы recipes:\")\n",
    "print(\"Количество точек данных (строк):\", recipes.shape[0])\n",
    "print(\"Количество столбцов:\", recipes.shape[1])\n",
    "print(\"\\nТипы данных каждого столбца:\")\n",
    "print(recipes.dtypes)\n",
    "\n",
    "# Основные параметры для таблицы reviews\n",
    "print(\"\\nОсновные параметры для таблицы reviews:\")\n",
    "print(\"Количество точек данных (строк):\", reviews.shape[0])\n",
    "print(\"Количество столбцов:\", reviews.shape[1])\n",
    "print(\"\\nТипы данных каждого столбца:\")\n",
    "print(reviews.dtypes)"
   ]
  },
  {
   "cell_type": "markdown",
   "metadata": {},
   "source": [
    "1.3"
   ]
  },
  {
   "cell_type": "code",
   "execution_count": null,
   "metadata": {},
   "outputs": [],
   "source": [
    "#Подсчёт пропущенных значений в таблице recipes\n",
    "miss_val_recipes = recipes.isna().sum()\n",
    "print(\"Пропущенные значения в таблице recipes:\")\n",
    "print(miss_val_recipes)\n",
    "\n",
    "# Подсчёт доли строк с пропусками в таблице recipes\n",
    "total_rows_recipes = recipes.shape[0]\n",
    "rows_with_miss = recipes.isna().any(axis=1).sum()\n",
    "fraction_miss = rows_with_miss / total_rows_recipes\n",
    "print(\"\\nДоля строк с пропусками в таблице recipes:\", round(fraction_miss, 5))\n",
    "\n",
    "# Подсчёт пропущенных значений в таблице reviews\n",
    "missing_values_reviews = reviews.isna().sum()\n",
    "print(\"\\nПропущенные значения в таблице reviews:\")\n",
    "print(missing_values_reviews)\n",
    "\n",
    "# Подсчёт доли строк с пропусками в таблице reviews\n",
    "total_rows_reviews = reviews.shape[0]\n",
    "rows_with_miss = reviews.isna().any(axis=1).sum()\n",
    "fraction_miss = rows_with_miss / total_rows_reviews\n",
    "print(\"\\nДоля строк с пропусками в таблице reviews:\", round(fraction_miss, 5))"
   ]
  },
  {
   "cell_type": "markdown",
   "metadata": {},
   "source": [
    "1.4"
   ]
  },
  {
   "cell_type": "code",
   "execution_count": null,
   "metadata": {},
   "outputs": [],
   "source": [
    "#Делает вывод без экспоненциальной нотации\n",
    "pd.set_option('display.float_format', lambda x: '%.5f' % x)\n",
    "\n",
    "# Рассчет среднего значения для каждого числового столбца в таблице recipes\n",
    "numeric_columns_recipes = recipes.select_dtypes(include=['number'])\n",
    "mean_values_recipes = numeric_columns_recipes.mean()\n",
    "print(\"Средние значения для каждого числового столбца в таблице recipes:\")\n",
    "print(mean_values_recipes)\n",
    "\n",
    "# Рассчет среднего значения для каждого числового столбца в таблице reviews\n",
    "numeric_columns_reviews = reviews.select_dtypes(include=['number'])\n",
    "mean_values_reviews = numeric_columns_reviews.mean()\n",
    "print(\"\\nСредние значения для каждого числового столбца в таблице reviews:\")\n",
    "print(mean_values_reviews)\n",
    "\n",
    "pd.set_option('display.float_format', None)"
   ]
  },
  {
   "cell_type": "markdown",
   "metadata": {},
   "source": [
    "1.5"
   ]
  },
  {
   "cell_type": "code",
   "execution_count": null,
   "metadata": {},
   "outputs": [],
   "source": [
    "import random\n",
    "random.seed(1) #Не нужен :)\n",
    "random_recipe_names = pd.Series(random.sample(list(recipes['name']), 10))\n",
    "print(random_recipe_names)"
   ]
  },
  {
   "cell_type": "markdown",
   "metadata": {},
   "source": [
    "1.6"
   ]
  },
  {
   "cell_type": "code",
   "execution_count": null,
   "metadata": {},
   "outputs": [],
   "source": [
    "# Изменение индекса в таблице reviews, пронумеровав строки, начиная с нуля\n",
    "reviews.reset_index(drop=True, inplace=True)\n",
    "\n",
    "# Вывод первых нескольких строк таблиц reviews после изменения индекса\n",
    "print(\"Таблица reviews после изменения индекса:\")\n",
    "print(reviews.head())"
   ]
  },
  {
   "cell_type": "markdown",
   "metadata": {},
   "source": [
    "1.7"
   ]
  },
  {
   "cell_type": "code",
   "execution_count": null,
   "metadata": {},
   "outputs": [],
   "source": [
    "# Фильтрация рецептов с временем выполнения не более 20 минут и не более 5 ингредиентов\n",
    "filtered_recipes = recipes[(recipes['minutes'] <= 20) & (recipes['n_ingredients'] <= 5)]\n",
    "\n",
    "# Вывод информации о рецептах, удовлетворяющих условиям\n",
    "print(\"Информация о рецептах, время выполнения которых не больше 20 минут и количество ингредиентов в которых не больше 5:\")\n",
    "print(filtered_recipes)"
   ]
  },
  {
   "cell_type": "markdown",
   "metadata": {},
   "source": [
    "2.1"
   ]
  },
  {
   "cell_type": "code",
   "execution_count": 44,
   "metadata": {},
   "outputs": [],
   "source": [
    "import pandas as pd\n",
    "\n",
    "# Загрузка данных из файлов в таблиц с преобразованием столбца submitted в формат времени\n",
    "recipes = pd.read_csv('data/recipes_sample.csv', parse_dates=['submitted'])\n",
    "reviews = pd.read_csv('data/reviews_sample.csv', index_col=0)  # Указываем столбец с индексами\n"
   ]
  },
  {
   "cell_type": "markdown",
   "metadata": {},
   "source": [
    "2.2"
   ]
  },
  {
   "cell_type": "code",
   "execution_count": null,
   "metadata": {},
   "outputs": [],
   "source": [
    "# Фильтрация рецептов, добавленных не позже 2010 года\n",
    "recipes_before_2010 = recipes[recipes['submitted'].dt.year <= 2010]\n",
    "\n",
    "# Вывод информации о рецептах, добавленных не позже 2010 года\n",
    "print(\"Информация о рецептах, добавленных не позже 2010 года:\")\n",
    "print(recipes_before_2010)"
   ]
  },
  {
   "cell_type": "markdown",
   "metadata": {},
   "source": [
    "3.1"
   ]
  },
  {
   "cell_type": "code",
   "execution_count": null,
   "metadata": {},
   "outputs": [],
   "source": [
    "# Добавление столбца description_length с длиной описания рецепта в таблицу recipes\n",
    "recipes['description_length'] = recipes['description'].apply(lambda x: len(str(x)))\n",
    "\n",
    "# Вывод первых нескольких строк таблицы recipes с добавленным столбцом description_length\n",
    "print(\"Первые строки таблицы recipes с добавленным столбцом description_length:\")\n",
    "print(recipes.head())"
   ]
  },
  {
   "cell_type": "markdown",
   "metadata": {},
   "source": [
    "3.2"
   ]
  },
  {
   "cell_type": "code",
   "execution_count": null,
   "metadata": {},
   "outputs": [],
   "source": [
    "# Изменение названия каждого рецепта в таблице recipes\n",
    "recipes['name'] = recipes['name'].str.title()\n",
    "\n",
    "# Вывод первых нескольких строк таблиц recipes после изменения названия рецептов\n",
    "print(\"Первые строки таблицы recipes после изменения названия рецептов:\")\n",
    "print(recipes.head())"
   ]
  },
  {
   "cell_type": "markdown",
   "metadata": {},
   "source": [
    "3.3 Добавьте в таблицу `recipes` столбец `name_word_count`, в котором хранится количество слов из названии рецепта (считайте, что слова в названии разделяются только пробелами). Обратите внимание, что между словами может располагаться несколько пробелов подряд."
   ]
  },
  {
   "cell_type": "code",
   "execution_count": 52,
   "metadata": {},
   "outputs": [
    {
     "name": "stdout",
     "output_type": "stream",
     "text": [
      "Первые строки таблицы recipes с добавленным столбцом name_word_count:\n",
      "                                       name     id  minutes  contributor_id  \\\n",
      "0     George S At The Cove  Black Bean Soup  44123       90           35193   \n",
      "1        Healthy For Them  Yogurt Popsicles  67664       10           91970   \n",
      "2              I Can T Believe It S Spinach  38798       30            1533   \n",
      "3                      Italian  Gut Busters  35173       45           22724   \n",
      "4  Love Is In The Air  Beef Fondue   Sauces  84797       25            4470   \n",
      "\n",
      "   submitted  n_steps                                        description  \\\n",
      "0 2002-10-25      NaN  an original recipe created by chef scott meska...   \n",
      "1 2003-07-26      NaN  my children and their friends ask for my homem...   \n",
      "2 2002-08-29      NaN            these were so go, it surprised even me.   \n",
      "3 2002-07-27      NaN  my sister-in-law made these for us at a family...   \n",
      "4 2004-02-23      4.0  i think a fondue is a very romantic casual din...   \n",
      "\n",
      "   n_ingredients  description_length  name_word_count  \n",
      "0           18.0                 330                8  \n",
      "1            NaN                 255                5  \n",
      "2            8.0                  39                7  \n",
      "3            NaN                 154                3  \n",
      "4            NaN                 587                8  \n"
     ]
    }
   ],
   "source": [
    "# Добавление столбца name_word_count с количеством слов из названия рецепта в таблицу recipes\n",
    "recipes['name_word_count'] = recipes['name'].apply(lambda x: len(x.split()))\n",
    "\n",
    "# Вывод первых нескольких строк таблиц recipes с добавленным столбцом name_word_count\n",
    "print(\"Первые строки таблицы recipes с добавленным столбцом name_word_count:\")\n",
    "print(recipes.head())"
   ]
  },
  {
   "cell_type": "markdown",
   "metadata": {},
   "source": [
    "4.1 Посчитайте количество рецептов, представленных каждым из участников (`contributor_id`). Какой участник добавил максимальное кол-во рецептов?"
   ]
  },
  {
   "cell_type": "code",
   "execution_count": null,
   "metadata": {},
   "outputs": [],
   "source": [
    "# Подсчет количества рецептов, представленных каждым участником\n",
    "recipes_per_contributor = recipes['contributor_id'].value_counts()\n",
    "\n",
    "# Нахождение участника, добавившего максимальное количество рецептов\n",
    "max_recipes_contributor = recipes_per_contributor.idxmax()\n",
    "max_recipes_count = recipes_per_contributor.max()\n",
    "\n",
    "# Вывод результата\n",
    "print(\"Количество рецептов, представленных каждым участником:\")\n",
    "print(recipes_per_contributor)\n",
    "print(\"\\nУчастник, добавивший максимальное количество рецептов (ID):\", max_recipes_contributor)\n",
    "print(\"Количество рецептов:\", max_recipes_count)\n"
   ]
  }
 ],
 "metadata": {
  "kernelspec": {
   "display_name": "Python 3",
   "language": "python",
   "name": "python3"
  },
  "language_info": {
   "codemirror_mode": {
    "name": "ipython",
    "version": 3
   },
   "file_extension": ".py",
   "mimetype": "text/x-python",
   "name": "python",
   "nbconvert_exporter": "python",
   "pygments_lexer": "ipython3",
   "version": "3.11.8"
  }
 },
 "nbformat": 4,
 "nbformat_minor": 2
}
